{
 "cells": [
  {
   "cell_type": "code",
   "execution_count": null,
   "metadata": {
    "collapsed": false
   },
   "outputs": [],
   "source": [
    "#import snappy"
   ]
  },
  {
   "cell_type": "code",
   "execution_count": 1,
   "metadata": {
    "collapsed": false
   },
   "outputs": [],
   "source": [
    "from snappy import HashMap\n",
    "from snappy import ProductIO\n",
    "from snappy import jpy\n"
   ]
  },
  {
   "cell_type": "code",
   "execution_count": 2,
   "metadata": {
    "collapsed": true
   },
   "outputs": [],
   "source": [
    "import os,gc\n",
    "from snappy import GPF"
   ]
  },
  {
   "cell_type": "code",
   "execution_count": 3,
   "metadata": {
    "collapsed": false
   },
   "outputs": [],
   "source": [
    "GPF.getDefaultInstance().getOperatorSpiRegistry().loadOperatorSpis()\n",
    "Hashmap = jpy.get_type('java.util.HashMap')"
   ]
  },
  {
   "cell_type": "code",
   "execution_count": 40,
   "metadata": {
    "collapsed": false
   },
   "outputs": [
    {
     "name": "stdout",
     "output_type": "stream",
     "text": [
      "org.esa.snap.core.datamodel.Product[name=S1A_IW_GRDH_1SDV_20190821T004329_20190821T004354_028660_033E51_6F6F]\n",
      "DESCENDING\n",
      "right\n"
     ]
    }
   ],
   "source": [
    "path = \"data/input/\"\n",
    "opath = \"data/output/\"\n",
    "folder = \"S1A_IW_GRDH_1SDV_20190821T004329_20190821T004354_028660_033E51_6F6F.SAFE\"\n",
    "gc.enable()\n",
    "imagepath = path + folder + \"\\\\\"\n",
    "output = opath + \"\\\\\"\n",
    "timestamp = folder.split('_')[4]\n",
    "date = timestamp[:8]\n",
    "\n",
    "s1_org = ProductIO.readProduct(imagepath + \"\\\\manifest.safe\")\n",
    "print(s1_org)\n",
    "\n",
    "\n",
    "\n",
    "orbit = s1_org.getMetadataRoot().getElement('Abstracted_Metadata').getAttribute('PASS').getData()\n",
    "look = s1_org.getMetadataRoot().getElement('Abstracted_Metadata').getAttribute('antenna_pointing').getData()\n",
    "\n",
    "print(orbit)\n",
    "print (look)\n"
   ]
  },
  {
   "cell_type": "code",
   "execution_count": 41,
   "metadata": {
    "collapsed": false
   },
   "outputs": [
    {
     "name": "stdout",
     "output_type": "stream",
     "text": [
      "25381\n",
      "16756\n",
      "['Amplitude_VH', 'Intensity_VH', 'Amplitude_VV', 'Intensity_VV']\n"
     ]
    }
   ],
   "source": [
    "width = s1_org.getSceneRasterWidth()\n",
    "height = s1_org.getSceneRasterHeight()\n",
    "bands = s1_org.getBandNames()\n",
    "print (width)\n",
    "print (height)\n",
    "print (list(bands))"
   ]
  },
  {
   "cell_type": "code",
   "execution_count": 42,
   "metadata": {
    "collapsed": false
   },
   "outputs": [
    {
     "name": "stdout",
     "output_type": "stream",
     "text": [
      "org.esa.snap.core.datamodel.Product[name=S1A_IW_GRDH_1SDV_20190821T004329_20190821T004354_028660_033E51_6F6F_Cal]\n",
      "org.esa.snap.core.datamodel.Product[name=Subset_S1A_IW_GRDH_1SDV_20190821T004329_20190821T004354_028660_033E51_6F6F_Cal]\n",
      "DESCENDING\n",
      "right\n"
     ]
    }
   ],
   "source": [
    "# first calibrate then subset -\n",
    "\n",
    "pols = ['VH'] #,'VV']\n",
    "    \n",
    "for p in pols:\n",
    "    polarization = p\n",
    "        \n",
    "    parameters = HashMap()\n",
    "    parameters.put('outputSigmaBand',True)\n",
    "    parameters.put('sourceBands','Intensity_'+ polarization)\n",
    "    parameters.put('selectedPolarizations' , polarization)\n",
    "    parameters.put('outputImageScaleInDb', False)\n",
    "        \n",
    "    s1_calib = GPF.createProduct('Calibration',parameters,s1_org)\n",
    "        \n",
    "    #s1_calib_bd = output + date + \"_calibrate_\" + polarization\n",
    "        \n",
    "    #ProductIO.writeProduct(s1_calib,s1_calib_bd, 'BEAM-DIMAP')\n",
    "        \n",
    "    print (s1_calib)\n",
    "    \n",
    "    WKTReader = jpy.get_type('com.vividsolutions.jts.io.WKTReader')\n",
    "\n",
    "    lon_min = 77.5\n",
    "    lat_min = 30.5\n",
    "    lon_max = 78.5\n",
    "    lat_max = 31.5\n",
    "\n",
    "#wkt = \"POLYGON((lon_min lat_min,lon_max lat_min ,lon_max lat_max ,lon_min lat_max ,lon_min lat_min))\"\n",
    "#wkt = \"POLYGON((77.5 30.5, 78.5 30.5, 78.5 31.5 , 77.5 31.5 , 77.5 30.5))\"\n",
    "    wkt = \"POLYGON((77.5 30.5, 77.6 30.5, 77.6 30.6 , 77.5 30.6 , 77.5 30.5))\"\n",
    "    geom = WKTReader().read(wkt)\n",
    "\n",
    "    parameters = HashMap()\n",
    "    parameters.put('copyMeta', True)\n",
    "    parameters.put('geoRegion', geom)\n",
    "    parameters.put('outputImageScaleinDB', False)\n",
    "\n",
    "    s1_subset = GPF.createProduct('Subset',parameters,s1_calib)\n",
    "\n",
    "    #ProductIO.\n",
    "    print (s1_subset)\n",
    "\n",
    "\n",
    "    orbit = s1_subset.getMetadataRoot().getElement('Abstracted_Metadata').getAttribute('PASS').getData()\n",
    "    look = s1_subset.getMetadataRoot().getElement('Abstracted_Metadata').getAttribute('antenna_pointing').getData()\n",
    "\n",
    "       ### TERRAIN CORRECTION\n",
    " \n",
    "    parameters = HashMap()     \n",
    "    parameters.put('demResamplingMethod', 'NEAREST_NEIGHBOUR') \n",
    "    parameters.put('imgResamplingMethod', 'NEAREST_NEIGHBOUR') \n",
    "    parameters.put('demName', 'SRTM 3Sec') \n",
    "    parameters.put('pixelSpacingInMeter', 10.0) \n",
    "    parameters.put('sourceBands', 'Sigma0_' + polarization)\n",
    " \n",
    "    terrain = output + date + \"_corrected_\" + polarization \n",
    "    target_2 = GPF.createProduct(\"Terrain-Correction\", parameters, s1_subset) \n",
    "    ProductIO.writeProduct(target_2, terrain, 'GeoTIFF')\n",
    "    \n",
    "    \n",
    "    \n",
    "\n",
    "print(orbit)\n",
    "print (look)\n",
    "\n",
    "\n",
    "\n",
    "del s1_org\n",
    "del s1_subset\n"
   ]
  },
  {
   "cell_type": "code",
   "execution_count": 46,
   "metadata": {
    "collapsed": false
   },
   "outputs": [
    {
     "ename": "ImportError",
     "evalue": "No module named 'rasterio'",
     "output_type": "error",
     "traceback": [
      "\u001b[0;31m---------------------------------------------------------------------------\u001b[0m",
      "\u001b[0;31mImportError\u001b[0m                               Traceback (most recent call last)",
      "\u001b[0;32m<ipython-input-46-9f5b8a1c8960>\u001b[0m in \u001b[0;36m<module>\u001b[0;34m()\u001b[0m\n\u001b[0;32m----> 1\u001b[0;31m \u001b[1;32mimport\u001b[0m \u001b[0mrasterio\u001b[0m \u001b[1;32mas\u001b[0m \u001b[0mrio\u001b[0m\u001b[1;33m\u001b[0m\u001b[0m\n\u001b[0m",
      "\u001b[0;31mImportError\u001b[0m: No module named 'rasterio'"
     ]
    }
   ],
   "source": [
    "import rasterio as rio\n"
   ]
  },
  {
   "cell_type": "code",
   "execution_count": null,
   "metadata": {
    "collapsed": true
   },
   "outputs": [],
   "source": []
  },
  {
   "cell_type": "code",
   "execution_count": 45,
   "metadata": {
    "collapsed": false
   },
   "outputs": [],
   "source": [
    "# first subset then calibrate - for some reason the calibration element is not getting copied in the subset\n"
   ]
  },
  {
   "cell_type": "code",
   "execution_count": null,
   "metadata": {
    "collapsed": false
   },
   "outputs": [],
   "source": []
  },
  {
   "cell_type": "code",
   "execution_count": 43,
   "metadata": {
    "collapsed": false
   },
   "outputs": [
    {
     "ename": "NameError",
     "evalue": "name 's1_subset' is not defined",
     "output_type": "error",
     "traceback": [
      "\u001b[0;31m---------------------------------------------------------------------------\u001b[0m",
      "\u001b[0;31mNameError\u001b[0m                                 Traceback (most recent call last)",
      "\u001b[0;32m<ipython-input-43-58e051e98249>\u001b[0m in \u001b[0;36m<module>\u001b[0;34m()\u001b[0m\n\u001b[0;32m----> 1\u001b[0;31m \u001b[0mprint\u001b[0m\u001b[1;33m(\u001b[0m\u001b[0mlist\u001b[0m\u001b[1;33m(\u001b[0m\u001b[0ms1_subset\u001b[0m\u001b[1;33m.\u001b[0m\u001b[0mgetBandNames\u001b[0m\u001b[1;33m(\u001b[0m\u001b[1;33m)\u001b[0m\u001b[1;33m)\u001b[0m\u001b[1;33m)\u001b[0m\u001b[1;33m\u001b[0m\u001b[0m\n\u001b[0m\u001b[1;32m      2\u001b[0m \u001b[0mprint\u001b[0m\u001b[1;33m(\u001b[0m\u001b[0ms1_subset\u001b[0m\u001b[1;33m.\u001b[0m\u001b[0mgetSceneRasterWidth\u001b[0m\u001b[1;33m(\u001b[0m\u001b[1;33m)\u001b[0m\u001b[1;33m)\u001b[0m\u001b[1;33m\u001b[0m\u001b[0m\n",
      "\u001b[0;31mNameError\u001b[0m: name 's1_subset' is not defined"
     ]
    }
   ],
   "source": [
    "print(list(s1_subset.getBandNames()))\n",
    "print(s1_subset.getSceneRasterWidth())"
   ]
  },
  {
   "cell_type": "code",
   "execution_count": null,
   "metadata": {
    "collapsed": false
   },
   "outputs": [],
   "source": [
    "\n",
    "    "
   ]
  },
  {
   "cell_type": "code",
   "execution_count": null,
   "metadata": {
    "collapsed": true
   },
   "outputs": [],
   "source": []
  },
  {
   "cell_type": "code",
   "execution_count": null,
   "metadata": {
    "collapsed": true
   },
   "outputs": [],
   "source": []
  },
  {
   "cell_type": "code",
   "execution_count": null,
   "metadata": {
    "collapsed": true
   },
   "outputs": [],
   "source": []
  },
  {
   "cell_type": "code",
   "execution_count": null,
   "metadata": {
    "collapsed": false
   },
   "outputs": [],
   "source": [
    "        "
   ]
  },
  {
   "cell_type": "code",
   "execution_count": null,
   "metadata": {
    "collapsed": true
   },
   "outputs": [],
   "source": []
  },
  {
   "cell_type": "code",
   "execution_count": 44,
   "metadata": {
    "collapsed": false
   },
   "outputs": [
    {
     "ename": "AttributeError",
     "evalue": "'NoneType' object has no attribute 'getRasterWidth'",
     "output_type": "error",
     "traceback": [
      "\u001b[0;31m---------------------------------------------------------------------------\u001b[0m",
      "\u001b[0;31mAttributeError\u001b[0m                            Traceback (most recent call last)",
      "\u001b[0;32m<ipython-input-44-58dc252a083e>\u001b[0m in \u001b[0;36m<module>\u001b[0;34m()\u001b[0m\n\u001b[1;32m     26\u001b[0m \u001b[1;33m\u001b[0m\u001b[0m\n\u001b[1;32m     27\u001b[0m \u001b[0ms1_subset\u001b[0m \u001b[1;33m=\u001b[0m \u001b[0ms1_org\u001b[0m \u001b[1;33m=\u001b[0m \u001b[0mProductIO\u001b[0m\u001b[1;33m.\u001b[0m\u001b[0mreadProduct\u001b[0m\u001b[1;33m(\u001b[0m\u001b[0moutput\u001b[0m \u001b[1;33m+\u001b[0m \u001b[1;34m\"20190821_corrected_VH.tif\"\u001b[0m\u001b[1;33m)\u001b[0m\u001b[1;33m\u001b[0m\u001b[0m\n\u001b[0;32m---> 28\u001b[0;31m \u001b[0mplotBand\u001b[0m\u001b[1;33m(\u001b[0m\u001b[0ms1_subset\u001b[0m\u001b[1;33m,\u001b[0m \u001b[1;34m'Amplitude_VV'\u001b[0m\u001b[1;33m,\u001b[0m \u001b[1;36m0\u001b[0m\u001b[1;33m,\u001b[0m \u001b[1;36m750\u001b[0m\u001b[1;33m)\u001b[0m\u001b[1;33m\u001b[0m\u001b[0m\n\u001b[0m\u001b[1;32m     29\u001b[0m \u001b[1;33m\u001b[0m\u001b[0m\n",
      "\u001b[0;32m<ipython-input-44-58dc252a083e>\u001b[0m in \u001b[0;36mplotBand\u001b[0;34m(product, band, vmin, vmax)\u001b[0m\n\u001b[1;32m     10\u001b[0m     \u001b[0mband\u001b[0m \u001b[1;33m=\u001b[0m \u001b[0mproduct\u001b[0m\u001b[1;33m.\u001b[0m\u001b[0mgetBand\u001b[0m\u001b[1;33m(\u001b[0m\u001b[0mband\u001b[0m\u001b[1;33m)\u001b[0m\u001b[1;33m\u001b[0m\u001b[0m\n\u001b[1;32m     11\u001b[0m \u001b[1;33m\u001b[0m\u001b[0m\n\u001b[0;32m---> 12\u001b[0;31m     \u001b[0mw\u001b[0m \u001b[1;33m=\u001b[0m \u001b[0mband\u001b[0m\u001b[1;33m.\u001b[0m\u001b[0mgetRasterWidth\u001b[0m\u001b[1;33m(\u001b[0m\u001b[1;33m)\u001b[0m\u001b[1;33m\u001b[0m\u001b[0m\n\u001b[0m\u001b[1;32m     13\u001b[0m     \u001b[0mh\u001b[0m \u001b[1;33m=\u001b[0m \u001b[0mband\u001b[0m\u001b[1;33m.\u001b[0m\u001b[0mgetRasterHeight\u001b[0m\u001b[1;33m(\u001b[0m\u001b[1;33m)\u001b[0m\u001b[1;33m\u001b[0m\u001b[0m\n\u001b[1;32m     14\u001b[0m \u001b[1;33m\u001b[0m\u001b[0m\n",
      "\u001b[0;31mAttributeError\u001b[0m: 'NoneType' object has no attribute 'getRasterWidth'"
     ]
    }
   ],
   "source": [
    "import numpy as np\n",
    "import matplotlib\n",
    "import matplotlib.pyplot as plt\n",
    "import matplotlib.colors as colors\n",
    "\n",
    "%matplotlib inline\n",
    "\n",
    "def plotBand(product, band, vmin, vmax):\n",
    "     \n",
    "    band = product.getBand(band)\n",
    "\n",
    "    w = band.getRasterWidth()\n",
    "    h = band.getRasterHeight()\n",
    "\n",
    "    band_data = np.zeros(w * h, np.float32)\n",
    "    band.readPixels(0, 0, w, h, band_data)\n",
    "\n",
    "    band_data.shape = h, w\n",
    "\n",
    "    width = 12\n",
    "    height = 12\n",
    "    plt.figure(figsize=(width, height))\n",
    "    imgplot = plt.imshow(band_data, cmap=plt.cm.binary, vmin=vmin, vmax=vmax)\n",
    "    \n",
    "    return imgplot \n",
    "\n",
    "s1_subset = s1_org = ProductIO.readProduct(output + \"20190821_corrected_VH.tif\")\n",
    "plotBand(s1_subset, 'Amplitude_VV', 0, 750)\n",
    "\n"
   ]
  },
  {
   "cell_type": "code",
   "execution_count": null,
   "metadata": {
    "collapsed": false
   },
   "outputs": [],
   "source": []
  },
  {
   "cell_type": "code",
   "execution_count": null,
   "metadata": {
    "collapsed": true
   },
   "outputs": [],
   "source": []
  }
 ],
 "metadata": {
  "kernelspec": {
   "display_name": "Python uk34",
   "language": "python",
   "name": "uk34"
  },
  "language_info": {
   "codemirror_mode": {
    "name": "ipython",
    "version": 3
   },
   "file_extension": ".py",
   "mimetype": "text/x-python",
   "name": "python",
   "nbconvert_exporter": "python",
   "pygments_lexer": "ipython3",
   "version": "3.4.5"
  }
 },
 "nbformat": 4,
 "nbformat_minor": 2
}
