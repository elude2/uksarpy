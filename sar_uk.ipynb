{
 "cells": [
  {
   "cell_type": "code",
   "execution_count": null,
   "metadata": {
    "collapsed": false
   },
   "outputs": [],
   "source": [
    "import snappy"
   ]
  },
  {
   "cell_type": "code",
   "execution_count": null,
   "metadata": {
    "collapsed": false
   },
   "outputs": [],
   "source": [
    "from snappy import HashMap\n",
    "from snappy import ProductIO\n"
   ]
  },
  {
   "cell_type": "code",
   "execution_count": null,
   "metadata": {
    "collapsed": true
   },
   "outputs": [],
   "source": [
    "import os,gc\n",
    "from snappy import GPF"
   ]
  },
  {
   "cell_type": "code",
   "execution_count": null,
   "metadata": {
    "collapsed": true
   },
   "outputs": [],
   "source": [
    "GPF.getDefaultInstance().getOperatorSpiRegistry().loadOperatorSpis()\n",
    "Hashmap = snappy.jpy.get_type('java.util.HashMap')"
   ]
  },
  {
   "cell_type": "code",
   "execution_count": null,
   "metadata": {
    "collapsed": false
   },
   "outputs": [],
   "source": [
    "path = \"data/input/\"\n",
    "for folder in os.listdir(path):\n",
    "    gc.enable()\n",
    "    output = path + folder + \"\\\\\"\n",
    "    timestamp = folder.split('_')[4]\n",
    "    date = timestamp[:8]\n",
    "    s1_org = ProductIO.readProduct(output + \"\\\\manifest.safe\")\n",
    "    print (s1_org)\n",
    "    \n",
    "    #apply Orbit\n",
    "    parameters = HashMap()\n",
    "    parameters.put('Apply-Orbit-File',True)\n",
    "    s1_orbit = GPF.createProduct('Apply-Orbit-File',parameters,s1_org)\n",
    "    print (s1_orbit)\n",
    "    \n",
    "    \n",
    "    #polarisation is SDV standard Dual Vertical (VH and VV)\n",
    "    pols = ['VH','VV']\n",
    "    \n",
    "    for p in pols:\n",
    "        polarization = p\n",
    "        \n",
    "        parameters = HashMap()\n",
    "        parameters.put('outputSigmaBand',True)\n",
    "        parameters.put('sourceBands','Intensity_'+ polarization)\n",
    "        parameters.put('selectedPolarizations' , polarization)\n",
    "        parameters.put('outputImageScaleInDb', False)\n",
    "        \n",
    "        s1_calib = GPF.createProduct('Calibration',parameters,s1_orbit)\n",
    "        \n",
    "        s1_calib_bd = output + date + \"_calibrate_\" + polarization\n",
    "        \n",
    "        ProductIO.writeProduct(s1_calib,s1_calib_bd, 'BEAM-DIMAP')\n",
    "        \n",
    "        #area of interest village\n",
    "        \n",
    "    \n",
    "    \n",
    "    del s1_orbit\n",
    "    "
   ]
  },
  {
   "cell_type": "code",
   "execution_count": null,
   "metadata": {
    "collapsed": true
   },
   "outputs": [],
   "source": []
  }
 ],
 "metadata": {
  "kernelspec": {
   "display_name": "Python uk34",
   "language": "python",
   "name": "uk34"
  },
  "language_info": {
   "codemirror_mode": {
    "name": "ipython",
    "version": 3
   },
   "file_extension": ".py",
   "mimetype": "text/x-python",
   "name": "python",
   "nbconvert_exporter": "python",
   "pygments_lexer": "ipython3",
   "version": "3.4.5"
  }
 },
 "nbformat": 4,
 "nbformat_minor": 2
}
